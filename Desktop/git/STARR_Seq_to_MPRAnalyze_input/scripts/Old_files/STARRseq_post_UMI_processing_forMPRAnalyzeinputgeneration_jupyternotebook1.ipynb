{
 "cells": [
  {
   "cell_type": "code",
   "execution_count": 1,
   "metadata": {},
   "outputs": [],
   "source": [
    "import pandas as pd"
   ]
  },
  {
   "cell_type": "code",
   "execution_count": 2,
   "metadata": {},
   "outputs": [
    {
     "name": "stdout",
     "output_type": "stream",
     "text": [
      "/net/hawkins/vol1/arpit/STARR_seq_fastafiles/STARRseqdata/Th1_Failed_PairedendRUN_18June_2020/catfiles/d2_d3_r2_r3_mergedfastq\n"
     ]
    }
   ],
   "source": [
    "cd /net/hawkins/vol1/arpit/STARR_seq_fastafiles/STARRseqdata/Th1_Failed_PairedendRUN_18June_2020/catfiles/d2_d3_r2_r3_mergedfastq/\n"
   ]
  },
  {
   "cell_type": "code",
   "execution_count": 3,
   "metadata": {},
   "outputs": [],
   "source": [
    "# read the data file\n",
    "r1_sort = pd.read_csv(\"../r1Th1_S1_UMI_sorted.tsv\", delimiter=\"\\t\")\n",
    "r2_sort = pd.read_csv(\"r2Th1_S2_UMI_sorted.tsv\", delimiter=\"\\t\") \n",
    "r3_sort = pd.read_csv(\"r3Th1_S3_UMI_sorted.tsv\", delimiter=\"\\t\")\n",
    "d1_sort = pd.read_csv(\"../UMItools_testforSNIPA/d1Th1_S4_UMI_sorted.tsv\", delimiter=\"\\t\")\n",
    "d2_sort = pd.read_csv(\"d2Th1_S5_UMI_sorted.tsv\", delimiter=\"\\t\")\n",
    "d3_sort = pd.read_csv(\"d3Th1_S6_UMI_sorted.tsv\", delimiter=\"\\t\")\n"
   ]
  },
  {
   "cell_type": "code",
   "execution_count": 4,
   "metadata": {},
   "outputs": [],
   "source": [
    "#merge UMI and rsID with separator : \n",
    "d1_sort[\"rsID_UMI\"] = d1_sort[\"contig\"] + \":\"+ d1_sort[\"final_umi\"]\n",
    "d2_sort[\"rsID_UMI\"] = d2_sort[\"contig\"] + \":\"+ d2_sort[\"final_umi\"]\n",
    "d3_sort[\"rsID_UMI\"] = d3_sort[\"contig\"] + \":\"+ d3_sort[\"final_umi\"]\n",
    "r1_sort[\"rsID_UMI\"] = r1_sort[\"contig\"] + \":\"+ r1_sort[\"final_umi\"]\n",
    "r2_sort[\"rsID_UMI\"] = r2_sort[\"contig\"] + \":\"+ r2_sort[\"final_umi\"]\n",
    "r3_sort[\"rsID_UMI\"] = r3_sort[\"contig\"] + \":\"+ r3_sort[\"final_umi\"]"
   ]
  },
  {
   "cell_type": "code",
   "execution_count": 6,
   "metadata": {},
   "outputs": [],
   "source": [
    "d1_sort = d1_sort[[\"contig\", \"rsID_UMI\",\"final_umi\", \"final_umi_count\"]]\n",
    "d2_sort = d2_sort[[\"contig\", \"rsID_UMI\",\"final_umi\", \"final_umi_count\"]]\n",
    "d3_sort = d3_sort[[\"contig\", \"rsID_UMI\",\"final_umi\", \"final_umi_count\"]]\n",
    "r1_sort = r1_sort[[\"contig\", \"rsID_UMI\",\"final_umi\", \"final_umi_count\"]]\n",
    "r2_sort = r2_sort[[\"contig\", \"rsID_UMI\",\"final_umi\", \"final_umi_count\"]]\n",
    "r3_sort = r3_sort[[\"contig\", \"rsID_UMI\",\"final_umi\", \"final_umi_count\"]]"
   ]
  },
  {
   "cell_type": "code",
   "execution_count": 7,
   "metadata": {},
   "outputs": [],
   "source": [
    "# sort values based on contig column \n",
    "d1_sort =d1_sort.sort_values(by =[\"contig\"])\n",
    "r1_sort = r1_sort.sort_values(by =[\"contig\"])\n",
    "d2_sort =d2_sort.sort_values(by =[\"contig\"])\n",
    "r2_sort = r2_sort.sort_values(by =[\"contig\"])\n",
    "d3_sort =d3_sort.sort_values(by =[\"contig\"])\n",
    "r3_sort = r3_sort.sort_values(by =[\"contig\"])\n"
   ]
  },
  {
   "cell_type": "code",
   "execution_count": 8,
   "metadata": {},
   "outputs": [
    {
     "data": {
      "text/plain": [
       "((28737952, 4), (3432461, 4), (23305346, 4))"
      ]
     },
     "execution_count": 8,
     "metadata": {},
     "output_type": "execute_result"
    }
   ],
   "source": [
    "r1_sort.shape,r2_sort.shape,r3_sort.shape"
   ]
  },
  {
   "cell_type": "code",
   "execution_count": 9,
   "metadata": {},
   "outputs": [],
   "source": [
    "import matplotlib.pyplot as plt\n",
    "import seaborn as sns \n",
    "import numpy as np\n",
    "%matplotlib inline"
   ]
  },
  {
   "cell_type": "code",
   "execution_count": 14,
   "metadata": {},
   "outputs": [],
   "source": [
    "d1contig = d1_sort[\"contig\"].str.split(\"_\", n=1, expand=True)\n",
    "d2contig = d2_sort[\"contig\"].str.split(\"_\", n=1, expand=True)\n",
    "d3contig = d3_sort[\"contig\"].str.split(\"_\", n=1, expand=True)\n",
    "r1contig = r1_sort[\"contig\"].str.split(\"_\", n=1, expand=True)\n",
    "r2contig = r2_sort[\"contig\"].str.split(\"_\", n=1, expand=True)\n",
    "r3contig = r3_sort[\"contig\"].str.split(\"_\", n=1, expand=True)"
   ]
  },
  {
   "cell_type": "code",
   "execution_count": 15,
   "metadata": {},
   "outputs": [],
   "source": [
    "d1_sort[\"rsID\"] = d1contig[0]\n",
    "d1_sort[\"variant\"] = d1contig[1]\n",
    "d2_sort[\"rsID\"] = d2contig[0]\n",
    "d2_sort[\"variant\"] = d2contig[1]\n",
    "d3_sort[\"rsID\"] = d3contig[0]\n",
    "d3_sort[\"variant\"] = d3contig[1]\n",
    "r1_sort[\"rsID\"] = r1contig[0]\n",
    "r1_sort[\"variant\"] = r1contig[1]\n",
    "r2_sort[\"rsID\"] = r2contig[0]\n",
    "r2_sort[\"variant\"] = r2contig[1]\n",
    "r3_sort[\"rsID\"] = r3contig[0]\n",
    "r3_sort[\"variant\"] = r3contig[1]"
   ]
  },
  {
   "cell_type": "code",
   "execution_count": 31,
   "metadata": {
    "collapsed": true
   },
   "outputs": [],
   "source": [
    "d1_sort_dedup = d1_sort.drop_duplicates(subset=\"rsID_UMI\", keep=\"first\") #drop duplicates \n",
    "d2_sort_dedup = d2_sort.drop_duplicates(subset=\"rsID_UMI\", keep=\"first\") #drop duplicates \n",
    "d3_sort_dedup = d3_sort.drop_duplicates(subset=\"rsID_UMI\", keep=\"first\") #drop duplicates \n",
    "r1_sort_dedup = r1_sort.drop_duplicates(subset=\"rsID_UMI\", keep = \"first\")\n",
    "r2_sort_dedup = r2_sort.drop_duplicates(subset=\"rsID_UMI\", keep = \"first\")\n",
    "r3_sort_dedup = r3_sort.drop_duplicates(subset=\"rsID_UMI\", keep = \"first\")"
   ]
  },
  {
   "cell_type": "code",
   "execution_count": 34,
   "metadata": {},
   "outputs": [],
   "source": [
    "r1_sort_dedup = r1_sort_dedup.rename({'final_umi_count':'final_umi_count_r1'}, axis=1)\n",
    "r2_sort_dedup = r2_sort_dedup.rename({'final_umi_count':'final_umi_count_r2'}, axis=1)\n",
    "r3_sort_dedup = r3_sort_dedup.rename({'final_umi_count':'final_umi_count_r3'}, axis=1)\n",
    "d1_sort_dedup = d1_sort_dedup.rename({'final_umi_count':'final_umi_count_d1'}, axis=1)\n",
    "d2_sort_dedup = d2_sort_dedup.rename({'final_umi_count':'final_umi_count_d2'}, axis=1)\n",
    "d3_sort_dedup = d3_sort_dedup.rename({'final_umi_count':'final_umi_count_d3'}, axis=1)"
   ]
  },
  {
   "cell_type": "code",
   "execution_count": 42,
   "metadata": {},
   "outputs": [
    {
     "data": {
      "text/plain": [
       "<bound method Series.unique of 1804609     AATGATAAGGA\n",
       "1804619     AATGATCAGCA\n",
       "1804616     AATGATCATAA\n",
       "1804617     AATGATCAGCC\n",
       "1804618     AATGATCAGAA\n",
       "               ...     \n",
       "15730411    AATGATAGTTT\n",
       "15730414    AATGATCCATA\n",
       "15730420    AATGATACCAC\n",
       "15730396    AATGATACCTG\n",
       "15730400    AATGATAGAGT\n",
       "Name: final_umi, Length: 132390, dtype: object>"
      ]
     },
     "execution_count": 42,
     "metadata": {},
     "output_type": "execute_result"
    }
   ],
   "source": [
    "# count number of barcodes for each condition \n",
    "\n",
    "d1_sort_dedup.final_umi.unique"
   ]
  },
  {
   "cell_type": "code",
   "execution_count": 43,
   "metadata": {},
   "outputs": [
    {
     "data": {
      "text/plain": [
       "(1036, 1046, 1053, 1051, 1030, 1054)"
      ]
     },
     "execution_count": 43,
     "metadata": {},
     "output_type": "execute_result"
    }
   ],
   "source": [
    "#d1_sort_dedup['final_umi'].value_counts()\n",
    "d1_sort_dedup['final_umi'].nunique(),d2_sort_dedup['final_umi'].nunique(),d3_sort_dedup['final_umi'].nunique(),r1_sort_dedup['final_umi'].nunique(),r2_sort_dedup['final_umi'].nunique(),r3_sort_dedup['final_umi'].nunique()"
   ]
  },
  {
   "cell_type": "code",
   "execution_count": 44,
   "metadata": {},
   "outputs": [
    {
     "data": {
      "text/plain": [
       "((175541, 6), (63750, 6), (151165, 6))"
      ]
     },
     "execution_count": 44,
     "metadata": {},
     "output_type": "execute_result"
    }
   ],
   "source": [
    "r1_sort_dedup.shape,r2_sort_dedup.shape,r3_sort_dedup.shape"
   ]
  },
  {
   "cell_type": "code",
   "execution_count": 45,
   "metadata": {},
   "outputs": [],
   "source": [
    "#r1_sort_dropdup.sort_values([\"contig\", \"final_umi\"])"
   ]
  },
  {
   "cell_type": "code",
   "execution_count": 46,
   "metadata": {},
   "outputs": [
    {
     "data": {
      "text/plain": [
       "((132390, 6), (142862, 6), (155502, 6))"
      ]
     },
     "execution_count": 46,
     "metadata": {},
     "output_type": "execute_result"
    }
   ],
   "source": [
    "d1_sort_dedup.shape, d2_sort_dedup.shape, d3_sort_dedup.shape "
   ]
  },
  {
   "cell_type": "code",
   "execution_count": 51,
   "metadata": {},
   "outputs": [],
   "source": [
    "d1_r1_outer = pd.concat([d1_sort_dedup, r1_sort_dedup], axis=0, join='outer', sort=False)"
   ]
  },
  {
   "cell_type": "code",
   "execution_count": 52,
   "metadata": {},
   "outputs": [
    {
     "data": {
      "text/plain": [
       "(307931, 7)"
      ]
     },
     "execution_count": 52,
     "metadata": {},
     "output_type": "execute_result"
    }
   ],
   "source": [
    "d1_r1_outer.shape"
   ]
  },
  {
   "cell_type": "code",
   "execution_count": 53,
   "metadata": {},
   "outputs": [
    {
     "data": {
      "text/html": [
       "<div>\n",
       "<style scoped>\n",
       "    .dataframe tbody tr th:only-of-type {\n",
       "        vertical-align: middle;\n",
       "    }\n",
       "\n",
       "    .dataframe tbody tr th {\n",
       "        vertical-align: top;\n",
       "    }\n",
       "\n",
       "    .dataframe thead th {\n",
       "        text-align: right;\n",
       "    }\n",
       "</style>\n",
       "<table border=\"1\" class=\"dataframe\">\n",
       "  <thead>\n",
       "    <tr style=\"text-align: right;\">\n",
       "      <th></th>\n",
       "      <th>contig</th>\n",
       "      <th>rsID_UMI</th>\n",
       "      <th>final_umi</th>\n",
       "      <th>final_umi_count_d1</th>\n",
       "      <th>rsID</th>\n",
       "      <th>variant</th>\n",
       "      <th>final_umi_count_r1</th>\n",
       "    </tr>\n",
       "  </thead>\n",
       "  <tbody>\n",
       "    <tr>\n",
       "      <th>1804609</th>\n",
       "      <td>rs10001246_C</td>\n",
       "      <td>rs10001246_C:AATGATAAGGA</td>\n",
       "      <td>AATGATAAGGA</td>\n",
       "      <td>14.0</td>\n",
       "      <td>rs10001246</td>\n",
       "      <td>C</td>\n",
       "      <td>NaN</td>\n",
       "    </tr>\n",
       "    <tr>\n",
       "      <th>1804619</th>\n",
       "      <td>rs10001246_C</td>\n",
       "      <td>rs10001246_C:AATGATCAGCA</td>\n",
       "      <td>AATGATCAGCA</td>\n",
       "      <td>1.0</td>\n",
       "      <td>rs10001246</td>\n",
       "      <td>C</td>\n",
       "      <td>NaN</td>\n",
       "    </tr>\n",
       "    <tr>\n",
       "      <th>1804616</th>\n",
       "      <td>rs10001246_C</td>\n",
       "      <td>rs10001246_C:AATGATCATAA</td>\n",
       "      <td>AATGATCATAA</td>\n",
       "      <td>1.0</td>\n",
       "      <td>rs10001246</td>\n",
       "      <td>C</td>\n",
       "      <td>NaN</td>\n",
       "    </tr>\n",
       "    <tr>\n",
       "      <th>1804617</th>\n",
       "      <td>rs10001246_C</td>\n",
       "      <td>rs10001246_C:AATGATCAGCC</td>\n",
       "      <td>AATGATCAGCC</td>\n",
       "      <td>1.0</td>\n",
       "      <td>rs10001246</td>\n",
       "      <td>C</td>\n",
       "      <td>NaN</td>\n",
       "    </tr>\n",
       "    <tr>\n",
       "      <th>1804618</th>\n",
       "      <td>rs10001246_C</td>\n",
       "      <td>rs10001246_C:AATGATCAGAA</td>\n",
       "      <td>AATGATCAGAA</td>\n",
       "      <td>1.0</td>\n",
       "      <td>rs10001246</td>\n",
       "      <td>C</td>\n",
       "      <td>NaN</td>\n",
       "    </tr>\n",
       "  </tbody>\n",
       "</table>\n",
       "</div>"
      ],
      "text/plain": [
       "               contig                  rsID_UMI    final_umi  \\\n",
       "1804609  rs10001246_C  rs10001246_C:AATGATAAGGA  AATGATAAGGA   \n",
       "1804619  rs10001246_C  rs10001246_C:AATGATCAGCA  AATGATCAGCA   \n",
       "1804616  rs10001246_C  rs10001246_C:AATGATCATAA  AATGATCATAA   \n",
       "1804617  rs10001246_C  rs10001246_C:AATGATCAGCC  AATGATCAGCC   \n",
       "1804618  rs10001246_C  rs10001246_C:AATGATCAGAA  AATGATCAGAA   \n",
       "\n",
       "         final_umi_count_d1        rsID variant  final_umi_count_r1  \n",
       "1804609                14.0  rs10001246       C                 NaN  \n",
       "1804619                 1.0  rs10001246       C                 NaN  \n",
       "1804616                 1.0  rs10001246       C                 NaN  \n",
       "1804617                 1.0  rs10001246       C                 NaN  \n",
       "1804618                 1.0  rs10001246       C                 NaN  "
      ]
     },
     "execution_count": 53,
     "metadata": {},
     "output_type": "execute_result"
    }
   ],
   "source": [
    "d1_r1_outer.head()"
   ]
  },
  {
   "cell_type": "code",
   "execution_count": 54,
   "metadata": {},
   "outputs": [],
   "source": [
    "#d1_r1_dropna = d1_r1_outer.dropna()"
   ]
  },
  {
   "cell_type": "code",
   "execution_count": 55,
   "metadata": {},
   "outputs": [
    {
     "data": {
      "text/plain": [
       "(0, 7)"
      ]
     },
     "execution_count": 55,
     "metadata": {},
     "output_type": "execute_result"
    }
   ],
   "source": [
    "#d1_r1_dropna.shape"
   ]
  },
  {
   "cell_type": "code",
   "execution_count": 56,
   "metadata": {},
   "outputs": [
    {
     "data": {
      "text/plain": [
       "<bound method DataFrame.sort_values of                 contig                  rsID_UMI    final_umi  \\\n",
       "1804609   rs10001246_C  rs10001246_C:AATGATAAGGA  AATGATAAGGA   \n",
       "1804619   rs10001246_C  rs10001246_C:AATGATCAGCA  AATGATCAGCA   \n",
       "1804616   rs10001246_C  rs10001246_C:AATGATCATAA  AATGATCATAA   \n",
       "1804617   rs10001246_C  rs10001246_C:AATGATCAGCC  AATGATCAGCC   \n",
       "1804618   rs10001246_C  rs10001246_C:AATGATCAGAA  AATGATCAGAA   \n",
       "...                ...                       ...          ...   \n",
       "24552527   rs9989163_G   rs9989163_G:AATGATTCATA  AATGATTCATA   \n",
       "24552531   rs9989163_G   rs9989163_G:AATGATTCCTC  AATGATTCCTC   \n",
       "24552535   rs9989163_G   rs9989163_G:AATGATCGCTC  AATGATCGCTC   \n",
       "3106585    rs9991380_A   rs9991380_A:AATGATTTCCT  AATGATTTCCT   \n",
       "17739048   rs9991380_G   rs9991380_G:AATGATCCGCC  AATGATCCGCC   \n",
       "\n",
       "          final_umi_count_d1        rsID variant  final_umi_count_r1  \n",
       "1804609                 14.0  rs10001246       C                 NaN  \n",
       "1804619                  1.0  rs10001246       C                 NaN  \n",
       "1804616                  1.0  rs10001246       C                 NaN  \n",
       "1804617                  1.0  rs10001246       C                 NaN  \n",
       "1804618                  1.0  rs10001246       C                 NaN  \n",
       "...                      ...         ...     ...                 ...  \n",
       "24552527                 NaN   rs9989163       G                 1.0  \n",
       "24552531                 NaN   rs9989163       G                 2.0  \n",
       "24552535                 NaN   rs9989163       G                 1.0  \n",
       "3106585                  NaN   rs9991380       A                 1.0  \n",
       "17739048                 NaN   rs9991380       G                 2.0  \n",
       "\n",
       "[307931 rows x 7 columns]>"
      ]
     },
     "execution_count": 56,
     "metadata": {},
     "output_type": "execute_result"
    }
   ],
   "source": [
    "d1_r1_outer.sort_values"
   ]
  },
  {
   "cell_type": "code",
   "execution_count": 58,
   "metadata": {},
   "outputs": [],
   "source": [
    "d1_r1_leftmerge = pd.merge(left=d1_sort_dedup, right=r1_sort_dedup, how= \"left\", left_on='rsID_UMI', right_on='rsID_UMI')\n",
    "d2_r2_leftmerge = pd.merge(left=d2_sort_dedup, right=r2_sort_dedup, how= \"left\", left_on='rsID_UMI', right_on='rsID_UMI')\n",
    "d3_r3_leftmerge = pd.merge(left=d3_sort_dedup, right=r3_sort_dedup, how= \"left\", left_on='rsID_UMI', right_on='rsID_UMI')\n"
   ]
  },
  {
   "cell_type": "code",
   "execution_count": 63,
   "metadata": {},
   "outputs": [],
   "source": [
    "d1_r1_leftmerge = d1_r1_leftmerge.sort_values([\"contig_x\",\"rsID_x\"])\n",
    "d2_r2_leftmerge = d2_r2_leftmerge.sort_values([\"contig_x\",\"rsID_x\"])\n",
    "d3_r3_leftmerge = d3_r3_leftmerge.sort_values([\"contig_x\",\"rsID_x\"])"
   ]
  },
  {
   "cell_type": "code",
   "execution_count": 67,
   "metadata": {},
   "outputs": [],
   "source": [
    "d1r1left = d1_r1_leftmerge[[\"rsID_UMI\", \"final_umi_count_d1\", \"final_umi_count_r1\"]]\n",
    "d2r2left = d2_r2_leftmerge[[\"rsID_UMI\", \"final_umi_count_d2\", \"final_umi_count_r2\"]]\n",
    "d3r3left = d3_r3_leftmerge[[\"rsID_UMI\", \"final_umi_count_d3\", \"final_umi_count_r3\"]]"
   ]
  },
  {
   "cell_type": "code",
   "execution_count": 69,
   "metadata": {},
   "outputs": [],
   "source": [
    "#d1r1_d2r2_outermerge = pd.merge(left=d1r1inner, right=d2r2inner, how=\"outer\" ,left_on='rsID_UMI', right_on='rsID_UMI')\n",
    "d1r1_d2r2_outermerge_left = pd.merge(left=d1r1left, right=d2r2left, how=\"outer\" ,left_on='rsID_UMI', right_on='rsID_UMI')\n"
   ]
  },
  {
   "cell_type": "code",
   "execution_count": 72,
   "metadata": {},
   "outputs": [],
   "source": [
    "#d1r1_d2r2_d3r3_outermerge = pd.merge(left=d1r1_d2r2_outermerge, right=d3r3inner, how=\"outer\" ,left_on='rsID_UMI', right_on='rsID_UMI')\n",
    "d1r1_d2r2_d3r3_outermerge_left = pd.merge(left=d1r1_d2r2_outermerge_left, right=d3r3left, how=\"outer\" ,left_on='rsID_UMI', right_on='rsID_UMI')\n"
   ]
  },
  {
   "cell_type": "code",
   "execution_count": 74,
   "metadata": {},
   "outputs": [
    {
     "data": {
      "text/plain": [
       "(318937, 7)"
      ]
     },
     "execution_count": 74,
     "metadata": {},
     "output_type": "execute_result"
    }
   ],
   "source": [
    "d1r1_d2r2_d3r3_outermerge_left.shape"
   ]
  },
  {
   "cell_type": "code",
   "execution_count": 75,
   "metadata": {},
   "outputs": [],
   "source": [
    "all_outer_left = d1r1_d2r2_d3r3_outermerge_left.fillna(0)\n",
    "#all_outer_inner = d1r1_d2r2_d3r3_outermerge.fillna(0)"
   ]
  },
  {
   "cell_type": "code",
   "execution_count": 76,
   "metadata": {},
   "outputs": [
    {
     "data": {
      "text/html": [
       "<div>\n",
       "<style scoped>\n",
       "    .dataframe tbody tr th:only-of-type {\n",
       "        vertical-align: middle;\n",
       "    }\n",
       "\n",
       "    .dataframe tbody tr th {\n",
       "        vertical-align: top;\n",
       "    }\n",
       "\n",
       "    .dataframe thead th {\n",
       "        text-align: right;\n",
       "    }\n",
       "</style>\n",
       "<table border=\"1\" class=\"dataframe\">\n",
       "  <thead>\n",
       "    <tr style=\"text-align: right;\">\n",
       "      <th></th>\n",
       "      <th>rsID_UMI</th>\n",
       "      <th>final_umi_count_d1</th>\n",
       "      <th>final_umi_count_r1</th>\n",
       "      <th>final_umi_count_d2</th>\n",
       "      <th>final_umi_count_r2</th>\n",
       "      <th>final_umi_count_d3</th>\n",
       "      <th>final_umi_count_r3</th>\n",
       "    </tr>\n",
       "  </thead>\n",
       "  <tbody>\n",
       "    <tr>\n",
       "      <th>0</th>\n",
       "      <td>rs10001246_C:AATGATAAGGA</td>\n",
       "      <td>14.0</td>\n",
       "      <td>0.0</td>\n",
       "      <td>11.0</td>\n",
       "      <td>5.0</td>\n",
       "      <td>17.0</td>\n",
       "      <td>14.0</td>\n",
       "    </tr>\n",
       "    <tr>\n",
       "      <th>1</th>\n",
       "      <td>rs10001246_C:AATGATCAGCA</td>\n",
       "      <td>1.0</td>\n",
       "      <td>0.0</td>\n",
       "      <td>11.0</td>\n",
       "      <td>1.0</td>\n",
       "      <td>2.0</td>\n",
       "      <td>5.0</td>\n",
       "    </tr>\n",
       "    <tr>\n",
       "      <th>2</th>\n",
       "      <td>rs10001246_C:AATGATCATAA</td>\n",
       "      <td>1.0</td>\n",
       "      <td>0.0</td>\n",
       "      <td>0.0</td>\n",
       "      <td>0.0</td>\n",
       "      <td>0.0</td>\n",
       "      <td>0.0</td>\n",
       "    </tr>\n",
       "    <tr>\n",
       "      <th>3</th>\n",
       "      <td>rs10001246_C:AATGATCAGCC</td>\n",
       "      <td>1.0</td>\n",
       "      <td>0.0</td>\n",
       "      <td>0.0</td>\n",
       "      <td>0.0</td>\n",
       "      <td>0.0</td>\n",
       "      <td>0.0</td>\n",
       "    </tr>\n",
       "    <tr>\n",
       "      <th>4</th>\n",
       "      <td>rs10001246_C:AATGATCAGAA</td>\n",
       "      <td>1.0</td>\n",
       "      <td>0.0</td>\n",
       "      <td>0.0</td>\n",
       "      <td>0.0</td>\n",
       "      <td>0.0</td>\n",
       "      <td>0.0</td>\n",
       "    </tr>\n",
       "    <tr>\n",
       "      <th>...</th>\n",
       "      <td>...</td>\n",
       "      <td>...</td>\n",
       "      <td>...</td>\n",
       "      <td>...</td>\n",
       "      <td>...</td>\n",
       "      <td>...</td>\n",
       "      <td>...</td>\n",
       "    </tr>\n",
       "    <tr>\n",
       "      <th>318932</th>\n",
       "      <td>rs9989163_G:AATGATCTGTG</td>\n",
       "      <td>0.0</td>\n",
       "      <td>0.0</td>\n",
       "      <td>0.0</td>\n",
       "      <td>0.0</td>\n",
       "      <td>1.0</td>\n",
       "      <td>0.0</td>\n",
       "    </tr>\n",
       "    <tr>\n",
       "      <th>318933</th>\n",
       "      <td>rs9989163_G:AATGATTCTAG</td>\n",
       "      <td>0.0</td>\n",
       "      <td>0.0</td>\n",
       "      <td>0.0</td>\n",
       "      <td>0.0</td>\n",
       "      <td>1.0</td>\n",
       "      <td>0.0</td>\n",
       "    </tr>\n",
       "    <tr>\n",
       "      <th>318934</th>\n",
       "      <td>rs9989163_G:AATGATTCTAC</td>\n",
       "      <td>0.0</td>\n",
       "      <td>0.0</td>\n",
       "      <td>0.0</td>\n",
       "      <td>0.0</td>\n",
       "      <td>2.0</td>\n",
       "      <td>0.0</td>\n",
       "    </tr>\n",
       "    <tr>\n",
       "      <th>318935</th>\n",
       "      <td>rs9989163_G:AATGATACGGC</td>\n",
       "      <td>0.0</td>\n",
       "      <td>0.0</td>\n",
       "      <td>0.0</td>\n",
       "      <td>0.0</td>\n",
       "      <td>1.0</td>\n",
       "      <td>0.0</td>\n",
       "    </tr>\n",
       "    <tr>\n",
       "      <th>318936</th>\n",
       "      <td>rs9989163_G:AATGATAAAGA</td>\n",
       "      <td>0.0</td>\n",
       "      <td>0.0</td>\n",
       "      <td>0.0</td>\n",
       "      <td>0.0</td>\n",
       "      <td>1.0</td>\n",
       "      <td>0.0</td>\n",
       "    </tr>\n",
       "  </tbody>\n",
       "</table>\n",
       "<p>318937 rows × 7 columns</p>\n",
       "</div>"
      ],
      "text/plain": [
       "                        rsID_UMI  final_umi_count_d1  final_umi_count_r1  \\\n",
       "0       rs10001246_C:AATGATAAGGA                14.0                 0.0   \n",
       "1       rs10001246_C:AATGATCAGCA                 1.0                 0.0   \n",
       "2       rs10001246_C:AATGATCATAA                 1.0                 0.0   \n",
       "3       rs10001246_C:AATGATCAGCC                 1.0                 0.0   \n",
       "4       rs10001246_C:AATGATCAGAA                 1.0                 0.0   \n",
       "...                          ...                 ...                 ...   \n",
       "318932   rs9989163_G:AATGATCTGTG                 0.0                 0.0   \n",
       "318933   rs9989163_G:AATGATTCTAG                 0.0                 0.0   \n",
       "318934   rs9989163_G:AATGATTCTAC                 0.0                 0.0   \n",
       "318935   rs9989163_G:AATGATACGGC                 0.0                 0.0   \n",
       "318936   rs9989163_G:AATGATAAAGA                 0.0                 0.0   \n",
       "\n",
       "        final_umi_count_d2  final_umi_count_r2  final_umi_count_d3  \\\n",
       "0                     11.0                 5.0                17.0   \n",
       "1                     11.0                 1.0                 2.0   \n",
       "2                      0.0                 0.0                 0.0   \n",
       "3                      0.0                 0.0                 0.0   \n",
       "4                      0.0                 0.0                 0.0   \n",
       "...                    ...                 ...                 ...   \n",
       "318932                 0.0                 0.0                 1.0   \n",
       "318933                 0.0                 0.0                 1.0   \n",
       "318934                 0.0                 0.0                 2.0   \n",
       "318935                 0.0                 0.0                 1.0   \n",
       "318936                 0.0                 0.0                 1.0   \n",
       "\n",
       "        final_umi_count_r3  \n",
       "0                     14.0  \n",
       "1                      5.0  \n",
       "2                      0.0  \n",
       "3                      0.0  \n",
       "4                      0.0  \n",
       "...                    ...  \n",
       "318932                 0.0  \n",
       "318933                 0.0  \n",
       "318934                 0.0  \n",
       "318935                 0.0  \n",
       "318936                 0.0  \n",
       "\n",
       "[318937 rows x 7 columns]"
      ]
     },
     "execution_count": 76,
     "metadata": {},
     "output_type": "execute_result"
    }
   ],
   "source": [
    "all_outer_left"
   ]
  },
  {
   "cell_type": "code",
   "execution_count": 77,
   "metadata": {},
   "outputs": [],
   "source": [
    "all_outer_left.to_csv(\"dna_rnacount_Th1.csv\") #### this output will go to jupyternotebook2 "
   ]
  },
  {
   "cell_type": "code",
   "execution_count": 106,
   "metadata": {},
   "outputs": [],
   "source": [
    "all_out_left_dnacount = all_outer_left[[\"rsID_UMI\", \"final_umi_count_d1\", \"final_umi_count_d2\", \"final_umi_count_d3\"]]\n",
    "all_out_left_rnacount = all_outer_left[[\"rsID_UMI\", \"final_umi_count_r1\", \"final_umi_count_r2\", \"final_umi_count_r3\"]]"
   ]
  },
  {
   "cell_type": "code",
   "execution_count": 110,
   "metadata": {},
   "outputs": [
    {
     "data": {
      "text/plain": [
       "(                   rsID_UMI  final_umi_count_d1  final_umi_count_d2  \\\n",
       " 0  rs10001246_C:AATGATAAGGA                14.0                11.0   \n",
       " 1  rs10001246_C:AATGATCAGCA                 1.0                11.0   \n",
       " 2  rs10001246_C:AATGATCATAA                 1.0                 0.0   \n",
       " 3  rs10001246_C:AATGATCAGCC                 1.0                 0.0   \n",
       " 4  rs10001246_C:AATGATCAGAA                 1.0                 0.0   \n",
       " \n",
       "    final_umi_count_d3  \n",
       " 0                17.0  \n",
       " 1                 2.0  \n",
       " 2                 0.0  \n",
       " 3                 0.0  \n",
       " 4                 0.0  ,\n",
       "                    rsID_UMI  final_umi_count_r1  final_umi_count_r2  \\\n",
       " 0  rs10001246_C:AATGATAAGGA                 0.0                 5.0   \n",
       " 1  rs10001246_C:AATGATCAGCA                 0.0                 1.0   \n",
       " 2  rs10001246_C:AATGATCATAA                 0.0                 0.0   \n",
       " 3  rs10001246_C:AATGATCAGCC                 0.0                 0.0   \n",
       " 4  rs10001246_C:AATGATCAGAA                 0.0                 0.0   \n",
       " \n",
       "    final_umi_count_r3  \n",
       " 0                14.0  \n",
       " 1                 5.0  \n",
       " 2                 0.0  \n",
       " 3                 0.0  \n",
       " 4                 0.0  )"
      ]
     },
     "execution_count": 110,
     "metadata": {},
     "output_type": "execute_result"
    }
   ],
   "source": [
    "all_out_left_dnacount.head(),all_out_left_rnacount.head()"
   ]
  },
  {
   "cell_type": "code",
   "execution_count": 111,
   "metadata": {},
   "outputs": [],
   "source": [
    "all_out_left_dnacount = all_out_left_dnacount.rename({'final_umi_count_d1':'rep1', 'final_umi_count_d2':'rep2','final_umi_count_d3':'rep3'}, axis=1)\n",
    "all_out_left_rnacount = all_out_left_rnacount.rename({'final_umi_count_r1':'rep1', 'final_umi_count_r2':'rep2','final_umi_count_r3':'rep3'}, axis=1)\n",
    "#first run by mistake dna was renamed as RNA "
   ]
  },
  {
   "cell_type": "code",
   "execution_count": 118,
   "metadata": {},
   "outputs": [],
   "source": [
    "dnaCount = all_out_left_dnacount.set_index(\"rsID_UMI\")\n",
    "rnaCount = all_out_left_rnacount.set_index(\"rsID_UMI\")"
   ]
  },
  {
   "cell_type": "code",
   "execution_count": 122,
   "metadata": {},
   "outputs": [
    {
     "data": {
      "text/plain": [
       "((318937, 3), (318937, 3))"
      ]
     },
     "execution_count": 122,
     "metadata": {},
     "output_type": "execute_result"
    }
   ],
   "source": [
    "rnaCount.shape,dnaCount.shape"
   ]
  },
  {
   "cell_type": "code",
   "execution_count": 125,
   "metadata": {},
   "outputs": [],
   "source": [
    "rnaCount.to_csv(\"rnaCount.csv\")\n",
    "dnaCount.to_csv(\"dnaCount.csv\")"
   ]
  },
  {
   "cell_type": "code",
   "execution_count": 8,
   "metadata": {},
   "outputs": [],
   "source": [
    "dat1 = pd.read_csv(\"d1_r1_leftmerge.csv\")\n",
    "dat2 = pd.read_csv(\"d2_r2_leftmerge.csv\")\n",
    "dat3 = pd.read_csv(\"d3_r3_leftmerge.csv\")\n"
   ]
  },
  {
   "cell_type": "code",
   "execution_count": 9,
   "metadata": {},
   "outputs": [
    {
     "data": {
      "text/plain": [
       "(7886, 7933, 7992)"
      ]
     },
     "execution_count": 9,
     "metadata": {},
     "output_type": "execute_result"
    }
   ],
   "source": [
    "dat1.contig_x.nunique(), dat2.contig_x.nunique(), dat3.contig_x.nunique()"
   ]
  },
  {
   "cell_type": "code",
   "execution_count": 10,
   "metadata": {},
   "outputs": [
    {
     "data": {
      "text/plain": [
       "(1036, 1046, 1053)"
      ]
     },
     "execution_count": 10,
     "metadata": {},
     "output_type": "execute_result"
    }
   ],
   "source": [
    "dat1.final_umi_x.nunique(), dat2.final_umi_x.nunique(), dat3.final_umi_x.nunique()"
   ]
  },
  {
   "cell_type": "code",
   "execution_count": 6,
   "metadata": {},
   "outputs": [
    {
     "data": {
      "text/html": [
       "<div>\n",
       "<style scoped>\n",
       "    .dataframe tbody tr th:only-of-type {\n",
       "        vertical-align: middle;\n",
       "    }\n",
       "\n",
       "    .dataframe tbody tr th {\n",
       "        vertical-align: top;\n",
       "    }\n",
       "\n",
       "    .dataframe thead th {\n",
       "        text-align: right;\n",
       "    }\n",
       "</style>\n",
       "<table border=\"1\" class=\"dataframe\">\n",
       "  <thead>\n",
       "    <tr style=\"text-align: right;\">\n",
       "      <th></th>\n",
       "      <th>contig_x</th>\n",
       "      <th>rsID_UMI</th>\n",
       "      <th>final_umi_x</th>\n",
       "      <th>final_umi_count_d1</th>\n",
       "      <th>rsID_x</th>\n",
       "      <th>variant_x</th>\n",
       "      <th>contig_y</th>\n",
       "      <th>final_umi_y</th>\n",
       "      <th>final_umi_count_r1</th>\n",
       "      <th>rsID_y</th>\n",
       "      <th>variant_y</th>\n",
       "    </tr>\n",
       "  </thead>\n",
       "  <tbody>\n",
       "    <tr>\n",
       "      <th>0</th>\n",
       "      <td>rs10001246_C</td>\n",
       "      <td>rs10001246_C:AATGATAAGGA</td>\n",
       "      <td>AATGATAAGGA</td>\n",
       "      <td>14</td>\n",
       "      <td>rs10001246</td>\n",
       "      <td>C</td>\n",
       "      <td>NaN</td>\n",
       "      <td>NaN</td>\n",
       "      <td>NaN</td>\n",
       "      <td>NaN</td>\n",
       "      <td>NaN</td>\n",
       "    </tr>\n",
       "    <tr>\n",
       "      <th>1</th>\n",
       "      <td>rs10001246_C</td>\n",
       "      <td>rs10001246_C:AATGATCAGCA</td>\n",
       "      <td>AATGATCAGCA</td>\n",
       "      <td>1</td>\n",
       "      <td>rs10001246</td>\n",
       "      <td>C</td>\n",
       "      <td>NaN</td>\n",
       "      <td>NaN</td>\n",
       "      <td>NaN</td>\n",
       "      <td>NaN</td>\n",
       "      <td>NaN</td>\n",
       "    </tr>\n",
       "    <tr>\n",
       "      <th>2</th>\n",
       "      <td>rs10001246_C</td>\n",
       "      <td>rs10001246_C:AATGATCATAA</td>\n",
       "      <td>AATGATCATAA</td>\n",
       "      <td>1</td>\n",
       "      <td>rs10001246</td>\n",
       "      <td>C</td>\n",
       "      <td>NaN</td>\n",
       "      <td>NaN</td>\n",
       "      <td>NaN</td>\n",
       "      <td>NaN</td>\n",
       "      <td>NaN</td>\n",
       "    </tr>\n",
       "    <tr>\n",
       "      <th>3</th>\n",
       "      <td>rs10001246_C</td>\n",
       "      <td>rs10001246_C:AATGATCAGCC</td>\n",
       "      <td>AATGATCAGCC</td>\n",
       "      <td>1</td>\n",
       "      <td>rs10001246</td>\n",
       "      <td>C</td>\n",
       "      <td>NaN</td>\n",
       "      <td>NaN</td>\n",
       "      <td>NaN</td>\n",
       "      <td>NaN</td>\n",
       "      <td>NaN</td>\n",
       "    </tr>\n",
       "    <tr>\n",
       "      <th>4</th>\n",
       "      <td>rs10001246_C</td>\n",
       "      <td>rs10001246_C:AATGATCAGAA</td>\n",
       "      <td>AATGATCAGAA</td>\n",
       "      <td>1</td>\n",
       "      <td>rs10001246</td>\n",
       "      <td>C</td>\n",
       "      <td>NaN</td>\n",
       "      <td>NaN</td>\n",
       "      <td>NaN</td>\n",
       "      <td>NaN</td>\n",
       "      <td>NaN</td>\n",
       "    </tr>\n",
       "  </tbody>\n",
       "</table>\n",
       "</div>"
      ],
      "text/plain": [
       "       contig_x                  rsID_UMI  final_umi_x  final_umi_count_d1  \\\n",
       "0  rs10001246_C  rs10001246_C:AATGATAAGGA  AATGATAAGGA                  14   \n",
       "1  rs10001246_C  rs10001246_C:AATGATCAGCA  AATGATCAGCA                   1   \n",
       "2  rs10001246_C  rs10001246_C:AATGATCATAA  AATGATCATAA                   1   \n",
       "3  rs10001246_C  rs10001246_C:AATGATCAGCC  AATGATCAGCC                   1   \n",
       "4  rs10001246_C  rs10001246_C:AATGATCAGAA  AATGATCAGAA                   1   \n",
       "\n",
       "       rsID_x variant_x contig_y final_umi_y  final_umi_count_r1 rsID_y  \\\n",
       "0  rs10001246         C      NaN         NaN                 NaN    NaN   \n",
       "1  rs10001246         C      NaN         NaN                 NaN    NaN   \n",
       "2  rs10001246         C      NaN         NaN                 NaN    NaN   \n",
       "3  rs10001246         C      NaN         NaN                 NaN    NaN   \n",
       "4  rs10001246         C      NaN         NaN                 NaN    NaN   \n",
       "\n",
       "  variant_y  \n",
       "0       NaN  \n",
       "1       NaN  \n",
       "2       NaN  \n",
       "3       NaN  \n",
       "4       NaN  "
      ]
     },
     "execution_count": 6,
     "metadata": {},
     "output_type": "execute_result"
    }
   ],
   "source": [
    "dat.head()"
   ]
  },
  {
   "cell_type": "code",
   "execution_count": 7,
   "metadata": {},
   "outputs": [
    {
     "data": {
      "text/plain": [
       "7886"
      ]
     },
     "execution_count": 7,
     "metadata": {},
     "output_type": "execute_result"
    }
   ],
   "source": [
    "dat.contig_x.nunique()"
   ]
  }
 ],
 "metadata": {
  "kernelspec": {
   "display_name": "Python 3",
   "language": "python",
   "name": "python3"
  },
  "language_info": {
   "codemirror_mode": {
    "name": "ipython",
    "version": 3
   },
   "file_extension": ".py",
   "mimetype": "text/x-python",
   "name": "python",
   "nbconvert_exporter": "python",
   "pygments_lexer": "ipython3",
   "version": "3.8.2"
  }
 },
 "nbformat": 4,
 "nbformat_minor": 4
}
